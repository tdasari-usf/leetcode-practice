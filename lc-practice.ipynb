{
 "cells": [
  {
   "cell_type": "code",
   "execution_count": 1,
   "id": "588cc7a9-13b7-4ca4-9110-cc71f6d831c1",
   "metadata": {},
   "outputs": [
    {
     "data": {
      "text/plain": [
       "180"
      ]
     },
     "execution_count": 1,
     "metadata": {},
     "output_type": "execute_result"
    }
   ],
   "source": [
    "def knapsack(wts, vals, cap):\n",
    "    dp = [[0 for _ in range(cap+1)] for _ in range(len(vals)+ 1)]\n",
    "    \n",
    "    #filled col first then followed by rows\n",
    "    for w in range(1, cap+1):\n",
    "        for idx, v in enumerate(vals):\n",
    "            if cap - wts[idx] >= 0:\n",
    "                dp[idx+1][w] = max(vals[idx] + dp[idx][w - wts[idx]], dp[idx][w])\n",
    "            else:\n",
    "                continue\n",
    "    return dp[-1][-1]\n",
    "\n",
    "vs = [60, 10, 120]\n",
    "ws = [10, 20, 30]\n",
    "cap = 50\n",
    "knapsack(ws, vs, cap)\n"
   ]
  },
  {
   "cell_type": "code",
   "execution_count": 2,
   "id": "725146c3-e681-424a-8f7c-29025790dac9",
   "metadata": {},
   "outputs": [
    {
     "data": {
      "text/plain": [
       "0"
      ]
     },
     "execution_count": 2,
     "metadata": {},
     "output_type": "execute_result"
    }
   ],
   "source": [
    "#152\n",
    "def max_product_sub_array(nums):\n",
    "    res = max(nums)\n",
    "    cmax, cmin = nums[0], nums[0]\n",
    "    \n",
    "    for n in nums[1:]:\n",
    "        if n == 0:\n",
    "            cmax, cmin = 1,1\n",
    "            continue\n",
    "        \n",
    "        tmp = cmax\n",
    "        cmax = max(cmax*n, cmin * n, n)\n",
    "        cmin = min(cmin * n, tmp * n, n)\n",
    "        res = max(cmax, cmin, res)\n",
    "    \n",
    "    return res\n",
    "\n",
    "nums = [-2,0,-1]\n",
    "max_product_sub_array(nums)\n"
   ]
  },
  {
   "cell_type": "code",
   "execution_count": 20,
   "id": "b00d1736-b054-4951-8166-3514a5c8ef60",
   "metadata": {},
   "outputs": [
    {
     "data": {
      "text/plain": [
       "10"
      ]
     },
     "execution_count": 20,
     "metadata": {},
     "output_type": "execute_result"
    }
   ],
   "source": [
    "#53\n",
    "def max_sum_sub_array(nums):\n",
    "    cur_sum = 0\n",
    "    max_sum = nums[0]\n",
    "    for n in nums:\n",
    "        \n",
    "        cur_sum += n\n",
    "        max_sum = max(cur_sum, max_sum)\n",
    "        cur_sum = max(cur_sum, 0)\n",
    "        \n",
    "    return max_sum\n",
    "\n",
    "nums = [-2, 0, 1, 9, -4]\n",
    "max_sum_sub_array(nums)"
   ]
  },
  {
   "cell_type": "code",
   "execution_count": 22,
   "id": "6c97a68a-2345-4a4c-89a9-74a270bbbbec",
   "metadata": {},
   "outputs": [
    {
     "data": {
      "text/plain": [
       "1"
      ]
     },
     "execution_count": 22,
     "metadata": {},
     "output_type": "execute_result"
    }
   ],
   "source": [
    "x = {0:1}\n",
    "x.get(0, 0)"
   ]
  },
  {
   "cell_type": "code",
   "execution_count": 3,
   "id": "6c1106ef-edd0-461b-9124-86839f8dc25a",
   "metadata": {},
   "outputs": [
    {
     "data": {
      "text/plain": [
       "2"
      ]
     },
     "execution_count": 3,
     "metadata": {},
     "output_type": "execute_result"
    }
   ],
   "source": [
    "#560\n",
    "#get the sub array counr which has its sum count to\n",
    "#k\n",
    "def sub_array_sum_k_count(nums, k):\n",
    "    ps = {0:1}\n",
    "    cs,ct = 0, 0\n",
    "    for n in nums:\n",
    "        cs += n\n",
    "        ct += ps.get(cs - k, 0)\n",
    "        ps[cs] = 1 + ps.get(cs, 0)\n",
    "        \n",
    "    return ct\n",
    "\n",
    "nums = [1,2,3]\n",
    "k = 3\n",
    "sub_array_sum_k_count(nums, k)"
   ]
  },
  {
   "cell_type": "code",
   "execution_count": 4,
   "id": "b1786716-8959-4e5c-a813-632a2f7c333a",
   "metadata": {},
   "outputs": [
    {
     "data": {
      "text/plain": [
       "30"
      ]
     },
     "execution_count": 4,
     "metadata": {},
     "output_type": "execute_result"
    }
   ],
   "source": [
    "#1800 - max ascending sub array\n",
    "def max_increasing_sub_array(nums):\n",
    "    #[1,2,3,0,10,20]\n",
    "    #ans is 30\n",
    "    cur_sum = 0\n",
    "    res = nums[0]\n",
    "    for idx in range(len(nums)):\n",
    "        if idx == 0:\n",
    "            cur_sum = nums[idx]\n",
    "            continue\n",
    "        if nums[idx] > nums[idx-1]:\n",
    "            cur_sum += nums[idx]\n",
    "        else:\n",
    "            cur_sum = nums[idx]\n",
    "        res = max(cur_sum, res)\n",
    "        \n",
    "    return res\n",
    "\n",
    "nums = [1,2,3,0,10,20]\n",
    "max_increasing_sub_array(nums)"
   ]
  },
  {
   "cell_type": "code",
   "execution_count": 5,
   "id": "8afe4c72-6174-44d4-bf9f-73b199eaf7d3",
   "metadata": {},
   "outputs": [],
   "source": [
    "#1911\n",
    "def max_alt_sub_seq_sum(nums):\n",
    "    dp = {}\n",
    "    def dfs(i, even):\n",
    "        \n",
    "        if i == len(nums):\n",
    "            return 0\n",
    "        if (i, even) in dp:\n",
    "            return dp[(i, even)]\n",
    "        \n",
    "        val = nums[i] * 1 if even else -1 * nums[i]\n",
    "        ans = max(val + dfs(i +1, not even), dfs(i, even))\n",
    "        dp[(i, even)] = ans\n",
    "        return dp[(i, even)]\n",
    "        \n",
    "    return dfs(0, True)"
   ]
  },
  {
   "cell_type": "code",
   "execution_count": 6,
   "id": "38b84811-5ded-4067-9c5d-499fff4211b9",
   "metadata": {},
   "outputs": [
    {
     "data": {
      "text/plain": [
       "4"
      ]
     },
     "execution_count": 6,
     "metadata": {},
     "output_type": "execute_result"
    }
   ],
   "source": [
    "#474\n",
    "#cal num sets with \n",
    "dp = {}\n",
    "def findMaxForm(strs, m, n, i):\n",
    "    if i == len(strs):\n",
    "        return 0\n",
    "    \n",
    "    if (i,m,n) in dp:\n",
    "        return dp[(i,m,n)]\n",
    "    o,z = 0,0\n",
    "    \n",
    "    for char in strs[i]:\n",
    "        if char == '0':\n",
    "            z+=1\n",
    "        else:\n",
    "            o+=1\n",
    "            \n",
    "    dp[(i,m,n)] = findMaxForm(strs, m, n, i+1)\n",
    "    \n",
    "    if z <= m and o <= n:\n",
    "        dp[(i,m,n)] = max(1 + findMaxForm(strs, m - z, n-o, i+1), \n",
    "                          dp[(i,m,n)])\n",
    "    return dp[(i, m,n)]\n",
    "\n",
    "\n",
    "strs = [\"10\",\"0001\",\"111001\",\"1\",\"0\"]\n",
    "m = 5\n",
    "n = 3\n",
    "\n",
    "findMaxForm(strs,m, n, 0)\n",
    "#dp approach not clear, analyze it."
   ]
  },
  {
   "cell_type": "code",
   "execution_count": 7,
   "id": "4a0c329e-30ce-472c-8789-10536ff620e6",
   "metadata": {},
   "outputs": [],
   "source": [
    "#918\n",
    "def max_sum_circular_arr(nums):\n",
    "    \n",
    "    global_max, global_min = nums[0], nums[0]\n",
    "    cur_sum_n = 0\n",
    "    cur_sum_x = 0\n",
    "    total = 0\n",
    "    for n in nums:\n",
    "        total += n\n",
    "        cur_sum_x += n\n",
    "        global_max = max(cur_sum_x, global_max)\n",
    "        cur_sum_x = max(cur_sum_x, 0)\n",
    "        cur_sum_n = min(cur_sum_n + n, n)\n",
    "        global_min = min(cur_sum_n, global_min)\n",
    "    \n",
    "    return max(global_max, total - global_min) if global_max > 0 else global_max"
   ]
  },
  {
   "cell_type": "code",
   "execution_count": 8,
   "id": "01c6ad7c-9316-4e4d-b0e4-6b8b4604d216",
   "metadata": {},
   "outputs": [],
   "source": [
    "#[1,4,2,1,2] - return 4 occured only once\n",
    "def rm_single(nums):\n",
    "    x = set()\n",
    "    \n",
    "    for n in nums:\n",
    "        if n not in x:\n",
    "            x.add(n)\n",
    "        else:\n",
    "            x.remove(n)\n",
    "    \n",
    "    return list(x)[0]\n",
    "    "
   ]
  },
  {
   "cell_type": "code",
   "execution_count": 23,
   "id": "bbeca744-e39f-416a-b8a2-607d90daf94b",
   "metadata": {},
   "outputs": [],
   "source": []
  },
  {
   "cell_type": "code",
   "execution_count": 9,
   "id": "c6be3c7e-a263-4a18-b1c6-5742555a489e",
   "metadata": {},
   "outputs": [
    {
     "data": {
      "text/plain": [
       "8"
      ]
     },
     "execution_count": 9,
     "metadata": {},
     "output_type": "execute_result"
    }
   ],
   "source": [
    "#1695\n",
    "# Brute force\n",
    "def erausre(nums):\n",
    "    max_sum = nums[0]\n",
    "    for start in range(len(nums)):\n",
    "        seen = set()\n",
    "        cur_sum = 0\n",
    "        for end in range(start, len(nums)):\n",
    "            if nums[end] not in seen:\n",
    "                seen.add(nums[end])\n",
    "                cur_sum += nums[end]\n",
    "            else:\n",
    "                break\n",
    "        max_sum = max(cur_sum, max_sum)\n",
    "    \n",
    "    return max_sum\n",
    "            \n",
    "\n",
    "# erausre(nums)\n",
    "\n",
    "#method 2\n",
    "def erasure_two_pointer(nums):\n",
    "    \n",
    "    start, end, cur_sum,max_sum = 0,0,0,0\n",
    "    seen = set()\n",
    "    while end <= len(nums) -1:\n",
    "        if nums[end] in seen:\n",
    "            while nums[end] in seen:\n",
    "                cur_sum -= nums[start]\n",
    "                seen.remove(nums[start])\n",
    "                start += 1\n",
    "        else:\n",
    "            cur_sum += nums[end]\n",
    "            max_sum = max(cur_sum, max_sum)\n",
    "            seen.add(nums[end])\n",
    "            end += 1\n",
    "    \n",
    "    return max_sum\n",
    "\n",
    "nums = [5,2,1,2,5,2,1,2,5]\n",
    "erasure_two_pointer(nums)\n",
    "\n",
    "#explore rest of the methods"
   ]
  },
  {
   "cell_type": "code",
   "execution_count": 10,
   "id": "190b3546-357b-4161-ae10-56f2ca304400",
   "metadata": {},
   "outputs": [
    {
     "name": "stdout",
     "output_type": "stream",
     "text": [
      "[10, 32, 9, 65, 31, 115, 106, 175, 255, 3]\n"
     ]
    }
   ],
   "source": [
    "#Maximum sum increasing subsequnce in an array\n",
    "def max_sum_increasing_sub(nums):\n",
    "    dp = [0] * (len(nums))\n",
    "    dp[0] = nums[0]\n",
    "    \n",
    "    for i in range(1,len(nums)):\n",
    "        max_ = -10\n",
    "        for j in range(0, i):\n",
    "            if nums[i] >= nums[j]:\n",
    "                max_ = nums[i] + dp[j]\n",
    "                dp[i] = max(dp[i], max_)\n",
    "        \n",
    "        if dp[i] == 0:\n",
    "            dp[i] = nums[i]\n",
    "    \n",
    "    print(dp)\n",
    "\n",
    "#do not having zero in dp - take int min\n",
    "nums = [10, 22, 9, 33, 21, 50, 41, 60, 80, 3]\n",
    "max_sum_increasing_sub(nums) "
   ]
  },
  {
   "cell_type": "code",
   "execution_count": 11,
   "id": "01209e56-c068-4518-826a-9bcd9622e121",
   "metadata": {},
   "outputs": [
    {
     "name": "stdout",
     "output_type": "stream",
     "text": [
      "[1, 2, 3, 5] 4\n",
      "[1, 1, 2, 2, 1, 3, 4]\n"
     ]
    }
   ],
   "source": [
    "#longest increasing subsequence - \n",
    "#to print lis\n",
    "#300\n",
    "def lis(nums):\n",
    "    #we do bottom up dp\n",
    "    dp = [1] * len(nums)\n",
    "    # dp_set = {idx : [] for idx in range(len(nums))}\n",
    "    max_set = 1\n",
    "    ans_set = None\n",
    "    for i in range(len(nums)):\n",
    "        dp_set = {i : []}\n",
    "        for j in range(0, i):\n",
    "            if nums[i] > nums[j]:\n",
    "                if 1 + dp[j] > dp[i]:\n",
    "                    dp[i] = 1 + dp[j]\n",
    "                    dp_set[i].append(nums[j])\n",
    "                # dp[i] = max(1 + dp[j], dp[i])\n",
    "        dp_set[i].append(nums[i])\n",
    "        if len(dp_set[i]) >= max_set:\n",
    "            ans_set = dp_set[i]\n",
    "            max_set = len(dp_set[i])\n",
    "            \n",
    "        \n",
    "    print(ans_set, max_set)\n",
    "    print(dp)\n",
    "\n",
    "nums = [9, 1,29, 2,-10, 3,5]\n",
    "lis(nums)"
   ]
  },
  {
   "cell_type": "code",
   "execution_count": 85,
   "id": "fc10ea7e-7483-458d-a103-c706c952720c",
   "metadata": {},
   "outputs": [],
   "source": [
    "def no_conflicts(scores, ages):\n",
    "    \n",
    "    pairs = [(ages[idx], scores[idx]) for idx in range(len(scores))]\n",
    "    pairs.sort()\n",
    "    dp = [0] * len(scores)\n",
    "\n",
    "    for i in range(len(scores)):\n",
    "        for j in range(0, i):\n",
    "            if scores[i] >= scores[j]:\n",
    "                dp[i] = max(dp[i], scores[i] + dp[j])\n",
    "        if dp[i] == 0:\n",
    "            dp[i] = scores[i]\n",
    "    \n",
    "    return max(dp)"
   ]
  },
  {
   "cell_type": "code",
   "execution_count": 73,
   "id": "333ecaa2-2ad0-4fc6-a10d-2a6a7ef8edb6",
   "metadata": {},
   "outputs": [],
   "source": [
    "from typing import List"
   ]
  },
  {
   "cell_type": "code",
   "execution_count": 74,
   "id": "b39ad8f6-5254-4377-b340-add5477e8734",
   "metadata": {},
   "outputs": [],
   "source": [
    "def bestTeamScore(scores: List[int], ages: List[int]) -> int:\n",
    "    pairs = [(ages[idx], scores[idx]) for idx in range(len(scores))]\n",
    "    pairs.sort()\n",
    "    scores = [pair[1] for pair in pairs]\n",
    "    del pairs\n",
    "    dp = [0] * len(scores)\n",
    "\n",
    "    for i in range(len(scores)):\n",
    "        for j in range(0, i):\n",
    "            if scores[i] >= scores[j]:\n",
    "                dp[i] = max(dp[i], scores[i] + dp[j])\n",
    "        if dp[i] == 0:\n",
    "            dp[i] = scores[i]\n",
    "\n",
    "    return max(dp)\n",
    "\n",
    "scores = [4,5,6,5]\n",
    "ages = [2,1,2,1]\n",
    "bestTeamScore(scores, ages)"
   ]
  },
  {
   "cell_type": "code",
   "execution_count": null,
   "id": "018c8411-79c0-49f1-ac98-fe7d27c6f5e4",
   "metadata": {},
   "outputs": [],
   "source": [
    "#Q print all IS\n",
    "#print LIS\n",
    "def print_lis(nums):\n",
    "    if len(nums) == 1:\n",
    "        return nums, 1\n",
    "    \n",
    "    st = print_lis(nums[1:])\n",
    "    if nums[0] < st[0]:\n",
    "        st = nums[0] + st\n",
    "    "
   ]
  }
 ],
 "metadata": {
  "kernelspec": {
   "display_name": "Python 3 (ipykernel)",
   "language": "python",
   "name": "python3"
  },
  "language_info": {
   "codemirror_mode": {
    "name": "ipython",
    "version": 3
   },
   "file_extension": ".py",
   "mimetype": "text/x-python",
   "name": "python",
   "nbconvert_exporter": "python",
   "pygments_lexer": "ipython3",
   "version": "3.9.12"
  }
 },
 "nbformat": 4,
 "nbformat_minor": 5
}
